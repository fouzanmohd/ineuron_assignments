{
 "cells": [
  {
   "cell_type": "raw",
   "metadata": {},
   "source": [
    "1.1 Write a Python Program(with class concepts) to find the area of the triangle using the below formula. \n",
    "area = (s*(s-a)*(s-b)*(s-c)) ** 0.5 \n",
    "Function to take the length of the sides of triangle from user should be defined in the parent class and function to calculate the area should be defined in subclass. \n",
    "\n",
    "s = sum of all side divide by 2\n"
   ]
  },
  {
   "cell_type": "code",
   "execution_count": 1,
   "metadata": {},
   "outputs": [],
   "source": [
    "class Triangle:\n",
    "    def sides(self):\n",
    "        self.sides = [float(input('Enter the length of side '+str(i+1)+':'))for i in range(3)]\n",
    "    def dispside(self):\n",
    "        try:\n",
    "            for i in range(3):\n",
    "                print ('Length of side'+str(i+1)+':', self.sides[i])\n",
    "        except:\n",
    "            print ('Enter the length before checking!')\n",
    "class Area(Triangle):    \n",
    "    def cal_area(self):\n",
    "        a,b,c = self.sides\n",
    "        s = (a+b+c)/2\n",
    "        area =  (s*(s-a)*(s-b)*(s-c)) ** 0.5 \n",
    "        print('Area of Triangle is:', area)"
   ]
  },
  {
   "cell_type": "code",
   "execution_count": 2,
   "metadata": {},
   "outputs": [],
   "source": [
    "#CREATING AN INSTANCE \n",
    "\n",
    "triangle_1 = Area()"
   ]
  },
  {
   "cell_type": "code",
   "execution_count": 3,
   "metadata": {},
   "outputs": [
    {
     "name": "stdout",
     "output_type": "stream",
     "text": [
      "Enter the length of side 1:10\n",
      "Enter the length of side 2:10\n",
      "Enter the length of side 3:10\n"
     ]
    }
   ],
   "source": [
    "#Input Sides from USER\n",
    "\n",
    "triangle_1.sides()"
   ]
  },
  {
   "cell_type": "code",
   "execution_count": 4,
   "metadata": {},
   "outputs": [
    {
     "name": "stdout",
     "output_type": "stream",
     "text": [
      "Length of side1: 10.0\n",
      "Length of side2: 10.0\n",
      "Length of side3: 10.0\n"
     ]
    }
   ],
   "source": [
    "#Display the sides of triangle\n",
    "\n",
    "triangle_1.dispside()"
   ]
  },
  {
   "cell_type": "code",
   "execution_count": 5,
   "metadata": {},
   "outputs": [
    {
     "name": "stdout",
     "output_type": "stream",
     "text": [
      "Area of Triangle is: 43.30127018922193\n"
     ]
    }
   ],
   "source": [
    "#To find the Area of Triangle\n",
    "\n",
    "triangle_1.cal_area()"
   ]
  },
  {
   "cell_type": "code",
   "execution_count": null,
   "metadata": {},
   "outputs": [],
   "source": []
  },
  {
   "cell_type": "raw",
   "metadata": {},
   "source": [
    "1.2 Write a function filter_long_words() that takes a list of words and an integer n and returns\n",
    "the list of words that are longer than n."
   ]
  },
  {
   "cell_type": "code",
   "execution_count": 10,
   "metadata": {},
   "outputs": [],
   "source": [
    "\n",
    "def filter_long_words(word_list, n):   \n",
    "    output=[]\n",
    "    for word in word_list:\n",
    "        if len(word) > n:\n",
    "            output.append(word)\n",
    "    print (output)\n",
    "    \n",
    "    "
   ]
  },
  {
   "cell_type": "code",
   "execution_count": 29,
   "metadata": {},
   "outputs": [
    {
     "name": "stdout",
     "output_type": "stream",
     "text": [
      "['superman', 'hippopotamus']\n",
      "['hello', 'names', 'howdy', 'superman', 'hippopotamus', 'lulu']\n",
      "['superman', 'hippopotamus']\n"
     ]
    }
   ],
   "source": [
    "#Checking the function with a list of words and integer\n",
    "\n",
    "\n",
    "list1 = ['hello', 'cat','if','names', 'howdy', 'superman','hippopotamus','a','lulu' ]\n",
    "\n",
    "#checking words having more than 5 letters\n",
    "filter_long_words(list1, 5)\n",
    "\n",
    "\n",
    "#checking words having more than 3 letters\n",
    "filter_long_words(list1, 3)\n",
    "\n",
    "#checking words having more than 6 letters\n",
    "filter_long_words(list1, 6)\n",
    "\n"
   ]
  },
  {
   "cell_type": "code",
   "execution_count": null,
   "metadata": {},
   "outputs": [],
   "source": []
  },
  {
   "cell_type": "raw",
   "metadata": {},
   "source": [
    "3. Write a Python program using function concept that maps list of words into a list of integers representing the lengths of the corresponding words"
   ]
  },
  {
   "cell_type": "code",
   "execution_count": 25,
   "metadata": {},
   "outputs": [],
   "source": [
    "\n",
    "def length_of_words(word_list):\n",
    "    output = []\n",
    "    for word in word_list:\n",
    "        word_length = len(word)\n",
    "        output.append(word_length)\n",
    "    print(output)\n",
    "    "
   ]
  },
  {
   "cell_type": "code",
   "execution_count": 28,
   "metadata": {},
   "outputs": [
    {
     "name": "stdout",
     "output_type": "stream",
     "text": [
      "[5, 3, 2, 5, 5, 8, 12, 1, 4]\n"
     ]
    }
   ],
   "source": [
    "#Checking the function with a list\n",
    "\n",
    "list1 = ['hello', 'cat','if','names', 'howdy', 'superman','hippopotamus','a','lulu' ]\n",
    "length_of_words(list1)"
   ]
  },
  {
   "cell_type": "code",
   "execution_count": null,
   "metadata": {},
   "outputs": [],
   "source": []
  },
  {
   "cell_type": "raw",
   "metadata": {},
   "source": [
    "2.2 Write a Python function which takes a character (i.e. a string of length 1) and returns True if\n",
    "it is a vowel, False otherwise."
   ]
  },
  {
   "cell_type": "code",
   "execution_count": 56,
   "metadata": {},
   "outputs": [],
   "source": [
    "def vowels(character=None):\n",
    "    vowels = ['a','e','i','o','u']\n",
    "    if str(character) in vowels:\n",
    "        print(True)\n",
    "    else:\n",
    "        print(False)"
   ]
  },
  {
   "cell_type": "code",
   "execution_count": 58,
   "metadata": {},
   "outputs": [
    {
     "name": "stdout",
     "output_type": "stream",
     "text": [
      "True\n",
      "False\n",
      "True\n"
     ]
    }
   ],
   "source": [
    "#Testing the function\n",
    "\n",
    "\n",
    "vowels('a')    #checking if a is a vowel\n",
    "\n",
    "vowels('z')     #checking if z is a vowel\n",
    " \n",
    "vowels('u')    #checking if u is a vowel"
   ]
  }
 ],
 "metadata": {
  "kernelspec": {
   "display_name": "Python 3",
   "language": "python",
   "name": "python3"
  },
  "language_info": {
   "codemirror_mode": {
    "name": "ipython",
    "version": 3
   },
   "file_extension": ".py",
   "mimetype": "text/x-python",
   "name": "python",
   "nbconvert_exporter": "python",
   "pygments_lexer": "ipython3",
   "version": "3.7.6"
  }
 },
 "nbformat": 4,
 "nbformat_minor": 4
}
